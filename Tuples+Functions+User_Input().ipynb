{
 "cells": [
  {
   "cell_type": "markdown",
   "id": "f812ab39",
   "metadata": {},
   "source": [
    "# 1. Tuples\n",
    "Tuples are used to store data of any data_type but it is totally different from List because we can't add or remove items in it. It is suitable where data is fixed i.e., months in a year or days in a week & etc."
   ]
  },
  {
   "cell_type": "markdown",
   "id": "668dac71",
   "metadata": {},
   "source": [
    "# How to create Tuples\n",
    "Tuples can be simply created by giving a name and put all the data in parenthesis and seprate each item with the help of commas."
   ]
  },
  {
   "cell_type": "markdown",
   "id": "c08c12b5",
   "metadata": {},
   "source": [
    "# Example"
   ]
  },
  {
   "cell_type": "code",
   "execution_count": 1,
   "id": "79641948",
   "metadata": {},
   "outputs": [],
   "source": [
    "month_name = ('Jan','Feb','March','April','May','Jun','July','Aug','Sep','Oct','Nov','Dec')"
   ]
  },
  {
   "cell_type": "code",
   "execution_count": 2,
   "id": "9251797d",
   "metadata": {},
   "outputs": [
    {
     "data": {
      "text/plain": [
       "('Jan',\n",
       " 'Feb',\n",
       " 'March',\n",
       " 'April',\n",
       " 'May',\n",
       " 'Jun',\n",
       " 'July',\n",
       " 'Aug',\n",
       " 'Sep',\n",
       " 'Oct',\n",
       " 'Nov',\n",
       " 'Dec')"
      ]
     },
     "execution_count": 2,
     "metadata": {},
     "output_type": "execute_result"
    }
   ],
   "source": [
    "month_name"
   ]
  },
  {
   "cell_type": "code",
   "execution_count": 3,
   "id": "38658636",
   "metadata": {},
   "outputs": [
    {
     "data": {
      "text/plain": [
       "('Mon', 'Tue', 'Wed', 'Thur', 'Fri', 'Sat', 'Sun')"
      ]
     },
     "execution_count": 3,
     "metadata": {},
     "output_type": "execute_result"
    }
   ],
   "source": [
    "week_name=('Mon','Tue','Wed','Thur','Fri','Sat',\"Sun\")\n",
    "week_name"
   ]
  },
  {
   "cell_type": "code",
   "execution_count": 4,
   "id": "9aa5619d",
   "metadata": {},
   "outputs": [
    {
     "data": {
      "text/plain": [
       "('0', '1', '2', '3', '4', '5', '6', '7', '8', '9')"
      ]
     },
     "execution_count": 4,
     "metadata": {},
     "output_type": "execute_result"
    }
   ],
   "source": [
    "digits =('0','1','2','3','4','5','6','7','8','9')\n",
    "digits"
   ]
  },
  {
   "cell_type": "markdown",
   "id": "66768c20",
   "metadata": {},
   "source": [
    "# Displaying Elements of Tuples Using Loop"
   ]
  },
  {
   "cell_type": "code",
   "execution_count": 6,
   "id": "d445ced4",
   "metadata": {},
   "outputs": [
    {
     "name": "stdout",
     "output_type": "stream",
     "text": [
      "0\n",
      "1\n",
      "2\n",
      "3\n",
      "4\n",
      "5\n",
      "6\n",
      "7\n",
      "8\n",
      "9\n"
     ]
    }
   ],
   "source": [
    "for i in digits:\n",
    "    print(i)"
   ]
  },
  {
   "cell_type": "code",
   "execution_count": 7,
   "id": "d4b593f3",
   "metadata": {},
   "outputs": [
    {
     "name": "stdout",
     "output_type": "stream",
     "text": [
      "Jan\n",
      "Feb\n",
      "March\n",
      "April\n",
      "May\n",
      "Jun\n",
      "July\n",
      "Aug\n",
      "Sep\n",
      "Oct\n",
      "Nov\n",
      "Dec\n"
     ]
    }
   ],
   "source": [
    "for i in month_name:\n",
    "    print(i)"
   ]
  },
  {
   "cell_type": "code",
   "execution_count": 8,
   "id": "e8811c4c",
   "metadata": {},
   "outputs": [
    {
     "name": "stdout",
     "output_type": "stream",
     "text": [
      "Mon\n",
      "Tue\n",
      "Wed\n",
      "Thur\n",
      "Fri\n",
      "Sat\n",
      "Sun\n"
     ]
    }
   ],
   "source": [
    "for i in week_name:\n",
    "    print(i)"
   ]
  },
  {
   "cell_type": "markdown",
   "id": "6b303b07",
   "metadata": {},
   "source": [
    "# Tuples can be created without parenthesis ()"
   ]
  },
  {
   "cell_type": "code",
   "execution_count": 10,
   "id": "e91cf1a9",
   "metadata": {},
   "outputs": [
    {
     "data": {
      "text/plain": [
       "('a', 'e', 'i', 'o', 'u')"
      ]
     },
     "execution_count": 10,
     "metadata": {},
     "output_type": "execute_result"
    }
   ],
   "source": [
    "vowels = 'a','e','i','o','u'\n",
    "vowels"
   ]
  },
  {
   "cell_type": "markdown",
   "id": "1dab3780",
   "metadata": {},
   "source": [
    "# Functions can be used in Tuples"
   ]
  },
  {
   "cell_type": "markdown",
   "id": "2f2fca37",
   "metadata": {},
   "source": [
    "# Count()\n",
    "It is used to find the occurence of the specific element in a tuple."
   ]
  },
  {
   "cell_type": "markdown",
   "id": "dae3be48",
   "metadata": {},
   "source": [
    "# Example"
   ]
  },
  {
   "cell_type": "code",
   "execution_count": 14,
   "id": "5c3400fc",
   "metadata": {},
   "outputs": [
    {
     "data": {
      "text/plain": [
       "1"
      ]
     },
     "execution_count": 14,
     "metadata": {},
     "output_type": "execute_result"
    }
   ],
   "source": [
    "month_name.count('Feb')"
   ]
  },
  {
   "cell_type": "code",
   "execution_count": 16,
   "id": "41d12665",
   "metadata": {},
   "outputs": [
    {
     "data": {
      "text/plain": [
       "0"
      ]
     },
     "execution_count": 16,
     "metadata": {},
     "output_type": "execute_result"
    }
   ],
   "source": [
    "month_name.count('January')"
   ]
  },
  {
   "cell_type": "code",
   "execution_count": 17,
   "id": "1de95e64",
   "metadata": {},
   "outputs": [
    {
     "data": {
      "text/plain": [
       "1"
      ]
     },
     "execution_count": 17,
     "metadata": {},
     "output_type": "execute_result"
    }
   ],
   "source": [
    "week_name.count('Mon')"
   ]
  },
  {
   "cell_type": "markdown",
   "id": "21efd215",
   "metadata": {},
   "source": [
    "# # index()\n",
    "It is used to find the Location of the specific element in a tuple."
   ]
  },
  {
   "cell_type": "code",
   "execution_count": 18,
   "id": "17b9e322",
   "metadata": {},
   "outputs": [
    {
     "data": {
      "text/plain": [
       "1"
      ]
     },
     "execution_count": 18,
     "metadata": {},
     "output_type": "execute_result"
    }
   ],
   "source": [
    "month_name.index('Feb')"
   ]
  },
  {
   "cell_type": "code",
   "execution_count": 21,
   "id": "6c0decfa",
   "metadata": {},
   "outputs": [
    {
     "data": {
      "text/plain": [
       "8"
      ]
     },
     "execution_count": 21,
     "metadata": {},
     "output_type": "execute_result"
    }
   ],
   "source": [
    "digits.index('8')"
   ]
  },
  {
   "cell_type": "code",
   "execution_count": 22,
   "id": "4f4d2900",
   "metadata": {},
   "outputs": [
    {
     "data": {
      "text/plain": [
       "4"
      ]
     },
     "execution_count": 22,
     "metadata": {},
     "output_type": "execute_result"
    }
   ],
   "source": [
    "week_name.index('Fri')"
   ]
  },
  {
   "cell_type": "markdown",
   "id": "402eb776",
   "metadata": {},
   "source": [
    "# len()\n",
    "It is used to find the Length or size of a tuple."
   ]
  },
  {
   "cell_type": "code",
   "execution_count": 24,
   "id": "2f102beb",
   "metadata": {},
   "outputs": [
    {
     "data": {
      "text/plain": [
       "12"
      ]
     },
     "execution_count": 24,
     "metadata": {},
     "output_type": "execute_result"
    }
   ],
   "source": [
    "len(month_name)"
   ]
  },
  {
   "cell_type": "code",
   "execution_count": 25,
   "id": "5dfb3b0e",
   "metadata": {},
   "outputs": [
    {
     "data": {
      "text/plain": [
       "7"
      ]
     },
     "execution_count": 25,
     "metadata": {},
     "output_type": "execute_result"
    }
   ],
   "source": [
    "len(week_name)"
   ]
  },
  {
   "cell_type": "code",
   "execution_count": 27,
   "id": "41216330",
   "metadata": {},
   "outputs": [
    {
     "data": {
      "text/plain": [
       "5"
      ]
     },
     "execution_count": 27,
     "metadata": {},
     "output_type": "execute_result"
    }
   ],
   "source": [
    "len(vowels)"
   ]
  },
  {
   "cell_type": "markdown",
   "id": "fbc98e1d",
   "metadata": {},
   "source": [
    "# Slicing in Tuple()\n",
    "It is used to display the elements of a tuples in specific order. The last parameter will be excluded."
   ]
  },
  {
   "cell_type": "code",
   "execution_count": 29,
   "id": "34673fd5",
   "metadata": {},
   "outputs": [
    {
     "data": {
      "text/plain": [
       "('Feb', 'March')"
      ]
     },
     "execution_count": 29,
     "metadata": {},
     "output_type": "execute_result"
    }
   ],
   "source": [
    "month_name[1:3]"
   ]
  },
  {
   "cell_type": "code",
   "execution_count": 30,
   "id": "7c7f40aa",
   "metadata": {},
   "outputs": [
    {
     "data": {
      "text/plain": [
       "('Jan',\n",
       " 'Feb',\n",
       " 'March',\n",
       " 'April',\n",
       " 'May',\n",
       " 'Jun',\n",
       " 'July',\n",
       " 'Aug',\n",
       " 'Sep',\n",
       " 'Oct',\n",
       " 'Nov',\n",
       " 'Dec')"
      ]
     },
     "execution_count": 30,
     "metadata": {},
     "output_type": "execute_result"
    }
   ],
   "source": [
    "month_name[0:]"
   ]
  },
  {
   "cell_type": "code",
   "execution_count": 31,
   "id": "91a710fc",
   "metadata": {},
   "outputs": [
    {
     "data": {
      "text/plain": [
       "('April', 'May', 'Jun', 'July', 'Aug', 'Sep', 'Oct', 'Nov', 'Dec')"
      ]
     },
     "execution_count": 31,
     "metadata": {},
     "output_type": "execute_result"
    }
   ],
   "source": [
    "month_name[3:]"
   ]
  },
  {
   "cell_type": "code",
   "execution_count": 33,
   "id": "550a31a3",
   "metadata": {},
   "outputs": [
    {
     "data": {
      "text/plain": [
       "('a', 'e', 'i', 'o', 'u')"
      ]
     },
     "execution_count": 33,
     "metadata": {},
     "output_type": "execute_result"
    }
   ],
   "source": [
    "vowels[:]"
   ]
  },
  {
   "cell_type": "code",
   "execution_count": 35,
   "id": "3cfcda1e",
   "metadata": {},
   "outputs": [
    {
     "data": {
      "text/plain": [
       "('0', '2', '4', '6', '8')"
      ]
     },
     "execution_count": 35,
     "metadata": {},
     "output_type": "execute_result"
    }
   ],
   "source": [
    "digits[0::2]"
   ]
  },
  {
   "cell_type": "markdown",
   "id": "924ce466",
   "metadata": {},
   "source": [
    "# Note: \n",
    "we can't add or remove elements in tuple but if we want to perform these operations we need to convert it into List or string then we can add or remove the elements and again we have to convert it into Tuple."
   ]
  },
  {
   "cell_type": "markdown",
   "id": "9a71e621",
   "metadata": {},
   "source": [
    "# Tuple() to List[]"
   ]
  },
  {
   "cell_type": "code",
   "execution_count": 36,
   "id": "b3e91f8e",
   "metadata": {},
   "outputs": [
    {
     "data": {
      "text/plain": [
       "['Jan',\n",
       " 'Feb',\n",
       " 'March',\n",
       " 'April',\n",
       " 'May',\n",
       " 'Jun',\n",
       " 'July',\n",
       " 'Aug',\n",
       " 'Sep',\n",
       " 'Oct',\n",
       " 'Nov',\n",
       " 'Dec']"
      ]
     },
     "execution_count": 36,
     "metadata": {},
     "output_type": "execute_result"
    }
   ],
   "source": [
    "list_month_name = list(month_name)\n",
    "list_month_name"
   ]
  },
  {
   "cell_type": "code",
   "execution_count": 38,
   "id": "206b16f1",
   "metadata": {},
   "outputs": [
    {
     "data": {
      "text/plain": [
       "['Jan',\n",
       " 'Feb',\n",
       " 'March',\n",
       " 'April',\n",
       " 'May',\n",
       " 'Jun',\n",
       " 'July',\n",
       " 'Aug',\n",
       " 'Sep',\n",
       " 'Oct',\n",
       " 'Nov',\n",
       " 'Dec',\n",
       " 'January']"
      ]
     },
     "execution_count": 38,
     "metadata": {},
     "output_type": "execute_result"
    }
   ],
   "source": [
    "list_month_name.append(\"January\")\n",
    "list_month_name"
   ]
  },
  {
   "cell_type": "code",
   "execution_count": 39,
   "id": "810d4fec",
   "metadata": {},
   "outputs": [
    {
     "data": {
      "text/plain": [
       "['Jan',\n",
       " 'Feb',\n",
       " 'March',\n",
       " 'April',\n",
       " 'May',\n",
       " 'June',\n",
       " 'Jun',\n",
       " 'July',\n",
       " 'Aug',\n",
       " 'Sep',\n",
       " 'Oct',\n",
       " 'Nov',\n",
       " 'Dec',\n",
       " 'January']"
      ]
     },
     "execution_count": 39,
     "metadata": {},
     "output_type": "execute_result"
    }
   ],
   "source": [
    "list_month_name.insert(5,'June')\n",
    "list_month_name"
   ]
  },
  {
   "cell_type": "code",
   "execution_count": 41,
   "id": "82eb5d36",
   "metadata": {},
   "outputs": [
    {
     "data": {
      "text/plain": [
       "['Jan',\n",
       " 'Feb',\n",
       " 'March',\n",
       " 'April',\n",
       " 'May',\n",
       " 'Jun',\n",
       " 'July',\n",
       " 'Aug',\n",
       " 'Sep',\n",
       " 'Oct',\n",
       " 'Nov',\n",
       " 'Dec',\n",
       " 'January']"
      ]
     },
     "execution_count": 41,
     "metadata": {},
     "output_type": "execute_result"
    }
   ],
   "source": [
    "list_month_name.remove('June')\n",
    "list_month_name"
   ]
  },
  {
   "cell_type": "code",
   "execution_count": 42,
   "id": "1fa06c7b",
   "metadata": {},
   "outputs": [
    {
     "data": {
      "text/plain": [
       "['Jan',\n",
       " 'Feb',\n",
       " 'March',\n",
       " 'April',\n",
       " 'May',\n",
       " 'Jun',\n",
       " 'July',\n",
       " 'Aug',\n",
       " 'Sep',\n",
       " 'Oct',\n",
       " 'Nov',\n",
       " 'January']"
      ]
     },
     "execution_count": 42,
     "metadata": {},
     "output_type": "execute_result"
    }
   ],
   "source": [
    "list_month_name.remove('Dec')\n",
    "list_month_name"
   ]
  },
  {
   "cell_type": "markdown",
   "id": "be0b9293",
   "metadata": {},
   "source": [
    "# List[ ] to Tuple()"
   ]
  },
  {
   "cell_type": "code",
   "execution_count": 43,
   "id": "c1a0f173",
   "metadata": {},
   "outputs": [
    {
     "data": {
      "text/plain": [
       "('Jan',\n",
       " 'Feb',\n",
       " 'March',\n",
       " 'April',\n",
       " 'May',\n",
       " 'Jun',\n",
       " 'July',\n",
       " 'Aug',\n",
       " 'Sep',\n",
       " 'Oct',\n",
       " 'Nov',\n",
       " 'January')"
      ]
     },
     "execution_count": 43,
     "metadata": {},
     "output_type": "execute_result"
    }
   ],
   "source": [
    "tpl_month_name = tuple(list_month_name)\n",
    "tpl_month_name"
   ]
  },
  {
   "cell_type": "markdown",
   "id": "19b83357",
   "metadata": {},
   "source": [
    "# 2. Functions\n",
    "Independent block of code which executes independently, gives facility to reusability of code."
   ]
  },
  {
   "cell_type": "markdown",
   "id": "c6c01c92",
   "metadata": {},
   "source": [
    "# Syntax to define a Function"
   ]
  },
  {
   "cell_type": "code",
   "execution_count": 46,
   "id": "918f1d7a",
   "metadata": {},
   "outputs": [],
   "source": [
    "#def function_name(Arugments):\n",
    "            #body_of_the_function"
   ]
  },
  {
   "cell_type": "markdown",
   "id": "1d77a0ac",
   "metadata": {},
   "source": [
    "# Examples"
   ]
  },
  {
   "cell_type": "code",
   "execution_count": 56,
   "id": "e8573c30",
   "metadata": {},
   "outputs": [
    {
     "name": "stdout",
     "output_type": "stream",
     "text": [
      "Hello\n"
     ]
    }
   ],
   "source": [
    "#Function to Print Hello World\n",
    "def print_Hello():\n",
    "    print(\"Hello\")\n",
    "print_Hello()"
   ]
  },
  {
   "cell_type": "code",
   "execution_count": 64,
   "id": "46072412",
   "metadata": {},
   "outputs": [
    {
     "name": "stdout",
     "output_type": "stream",
     "text": [
      "11\n"
     ]
    }
   ],
   "source": [
    "#Function to Print Sum of Two values\n",
    "a=5\n",
    "b=6\n",
    "def Sum_val(a,b):\n",
    "    print(a+b)\n",
    "Sum_val(a,b)"
   ]
  },
  {
   "cell_type": "code",
   "execution_count": 67,
   "id": "c173529b",
   "metadata": {},
   "outputs": [
    {
     "name": "stdout",
     "output_type": "stream",
     "text": [
      "11\n"
     ]
    }
   ],
   "source": [
    "#Function to Print Sum of Two values\n",
    "def Sum_val(a,b):\n",
    "    print(a+b)\n",
    "Sum_val(5,6)"
   ]
  },
  {
   "cell_type": "markdown",
   "id": "d2ea8019",
   "metadata": {},
   "source": [
    "# Function Returning a Vlaue"
   ]
  },
  {
   "cell_type": "code",
   "execution_count": 73,
   "id": "bd0e0fc2",
   "metadata": {},
   "outputs": [
    {
     "data": {
      "text/plain": [
       "19"
      ]
     },
     "execution_count": 73,
     "metadata": {},
     "output_type": "execute_result"
    }
   ],
   "source": [
    "def s(a,b):\n",
    "    return(a+b)\n",
    "s(9,10)"
   ]
  },
  {
   "cell_type": "markdown",
   "id": "80a1bef3",
   "metadata": {},
   "source": [
    "# Function to Check given string is palindrome or not"
   ]
  },
  {
   "cell_type": "code",
   "execution_count": 74,
   "id": "908cd7de",
   "metadata": {},
   "outputs": [
    {
     "name": "stdout",
     "output_type": "stream",
     "text": [
      "Not Palindrome\n",
      "Palindrome\n",
      "Not Palindrome\n"
     ]
    }
   ],
   "source": [
    "def str_palin(str):\n",
    "    rev_str = str[::-1]\n",
    "    if (str == rev_str):\n",
    "        print(\"Palindrome\")\n",
    "    else:\n",
    "        print(\"Not Palindrome\")\n",
    "str_palin(\"Alpha\")\n",
    "str_palin(\"madam\")\n",
    "str_palin(\"sir\")"
   ]
  },
  {
   "cell_type": "markdown",
   "id": "8b30460d",
   "metadata": {},
   "source": [
    "# 3. User Input()\n",
    "By default python takes every input as a string, by taking input from user we need to convert into into desire output"
   ]
  },
  {
   "cell_type": "code",
   "execution_count": 79,
   "id": "a5ce69b3",
   "metadata": {},
   "outputs": [
    {
     "name": "stdout",
     "output_type": "stream",
     "text": [
      "Enter Your Name M. Sajid Rashid\n"
     ]
    },
    {
     "data": {
      "text/plain": [
       "str"
      ]
     },
     "execution_count": 79,
     "metadata": {},
     "output_type": "execute_result"
    }
   ],
   "source": [
    "#input your name & print \n",
    "name=input(\"Enter Your Name \")\n",
    "name\n",
    "type(name)"
   ]
  },
  {
   "cell_type": "code",
   "execution_count": 80,
   "id": "ca8aed62",
   "metadata": {},
   "outputs": [
    {
     "name": "stdout",
     "output_type": "stream",
     "text": [
      "Enter Your Father Name Dr. Rashid Ahmed\n"
     ]
    },
    {
     "data": {
      "text/plain": [
       "str"
      ]
     },
     "execution_count": 80,
     "metadata": {},
     "output_type": "execute_result"
    }
   ],
   "source": [
    "#input your father name & print \n",
    "fname=input(\"Enter Your Father Name \")\n",
    "fname\n",
    "type(fname)"
   ]
  },
  {
   "cell_type": "code",
   "execution_count": 81,
   "id": "f68543f2",
   "metadata": {},
   "outputs": [
    {
     "name": "stdout",
     "output_type": "stream",
     "text": [
      "Enter Your Age 30\n"
     ]
    },
    {
     "data": {
      "text/plain": [
       "int"
      ]
     },
     "execution_count": 81,
     "metadata": {},
     "output_type": "execute_result"
    }
   ],
   "source": [
    "#input your age & print \n",
    "age=input(\"Enter Your Age \")\n",
    "age = int(age)\n",
    "age\n",
    "type(age)"
   ]
  },
  {
   "cell_type": "code",
   "execution_count": 89,
   "id": "5b2e2be7",
   "metadata": {},
   "outputs": [
    {
     "name": "stdout",
     "output_type": "stream",
     "text": [
      "Enter Your Name 5.7\n"
     ]
    },
    {
     "data": {
      "text/plain": [
       "float"
      ]
     },
     "execution_count": 89,
     "metadata": {},
     "output_type": "execute_result"
    }
   ],
   "source": [
    "#input your height & print \n",
    "height=input(\"Enter Your Name \")\n",
    "height = float(height)\n",
    "type(height)"
   ]
  },
  {
   "cell_type": "markdown",
   "id": "f1d0598a",
   "metadata": {},
   "source": [
    "# Multi inputs() on a single line\n",
    "we can take more than one input on a single line using split() function"
   ]
  },
  {
   "cell_type": "code",
   "execution_count": 91,
   "id": "72cdf08a",
   "metadata": {},
   "outputs": [
    {
     "name": "stdout",
     "output_type": "stream",
     "text": [
      "Enter two Number: 5 7\n",
      "12\n"
     ]
    }
   ],
   "source": [
    "n1, n2 = input(\"Enter two Number: \").split()\n",
    "#after getting first input press space to get second input\n",
    "n1 = int(n1)\n",
    "n2 = int(n2)\n",
    "print(n1+n2)"
   ]
  },
  {
   "cell_type": "code",
   "execution_count": 99,
   "id": "10eed691",
   "metadata": {},
   "outputs": [
    {
     "name": "stdout",
     "output_type": "stream",
     "text": [
      "Enter two Number: 5,8\n",
      "40\n"
     ]
    }
   ],
   "source": [
    "n1, n2 = input(\"Enter two Number: \").split(',')\n",
    "#after getting first input press comma(,) to get second input\n",
    "n1 = int(n1)\n",
    "n2 = int(n2)\n",
    "print(n1*n2)"
   ]
  },
  {
   "cell_type": "code",
   "execution_count": 97,
   "id": "db5581ed",
   "metadata": {},
   "outputs": [
    {
     "name": "stdout",
     "output_type": "stream",
     "text": [
      "Enter two Number: 5,8\n",
      "Second Number is Greater\n"
     ]
    }
   ],
   "source": [
    "n1, n2 = input(\"Enter two Number: \").split(',')\n",
    "#after getting first input press space to get second input\n",
    "n1 = int(n1)\n",
    "n2 = int(n2)\n",
    "if n1>n2:\n",
    "    print(\"First Number is Greater\")\n",
    "elif n2>n1:\n",
    "    print(\"Second Number is Greater\")\n",
    "else:\n",
    "    print(\"Both are eqaual\")"
   ]
  },
  {
   "cell_type": "code",
   "execution_count": 100,
   "id": "be8d5c73",
   "metadata": {},
   "outputs": [
    {
     "ename": "SyntaxError",
     "evalue": "cannot assign to literal (1662329738.py, line 5)",
     "output_type": "error",
     "traceback": [
      "\u001b[1;36m  File \u001b[1;32m\"C:\\Users\\hafix\\AppData\\Local\\Temp\\ipykernel_3376\\1662329738.py\"\u001b[1;36m, line \u001b[1;32m5\u001b[0m\n\u001b[1;33m    power=1, i=1\u001b[0m\n\u001b[1;37m          ^\u001b[0m\n\u001b[1;31mSyntaxError\u001b[0m\u001b[1;31m:\u001b[0m cannot assign to literal\n"
     ]
    }
   ],
   "source": [
    "#write a function to input base & exponent & find the power \n",
    "b,e =input('Enter Base & Exponent: ').split(',')\n",
    "b = int(b)\n",
    "e=int(b)\n",
    "power=1, i=1\n",
    "while i<=e:\n",
    "    power = power*i\n",
    "    i=i+1\n",
    "print(power)"
   ]
  },
  {
   "cell_type": "code",
   "execution_count": null,
   "id": "83259b61",
   "metadata": {},
   "outputs": [],
   "source": []
  }
 ],
 "metadata": {
  "kernelspec": {
   "display_name": "Python 3 (ipykernel)",
   "language": "python",
   "name": "python3"
  },
  "language_info": {
   "codemirror_mode": {
    "name": "ipython",
    "version": 3
   },
   "file_extension": ".py",
   "mimetype": "text/x-python",
   "name": "python",
   "nbconvert_exporter": "python",
   "pygments_lexer": "ipython3",
   "version": "3.9.13"
  }
 },
 "nbformat": 4,
 "nbformat_minor": 5
}
